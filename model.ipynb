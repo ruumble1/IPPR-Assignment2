{
 "cells": [
  {
   "cell_type": "code",
   "execution_count": 1,
   "metadata": {},
   "outputs": [
    {
     "name": "stderr",
     "output_type": "stream",
     "text": [
      "2024-10-27 21:55:37.639774: I tensorflow/core/platform/cpu_feature_guard.cc:182] This TensorFlow binary is optimized to use available CPU instructions in performance-critical operations.\n",
      "To enable the following instructions: AVX2 FMA, in other operations, rebuild TensorFlow with the appropriate compiler flags.\n",
      "2024-10-27 21:55:39.219129: W tensorflow/compiler/tf2tensorrt/utils/py_utils.cc:38] TF-TRT Warning: Could not find TensorRT\n"
     ]
    }
   ],
   "source": [
    "import tensorflow as tf\n",
    "import os\n",
    "import numpy as np\n",
    "from matplotlib import pyplot as plt\n",
    "from tensorflow.keras.models import Sequential \n",
    "from tensorflow.keras.layers import Conv2D, MaxPooling2D, Dense, Flatten, BatchNormalization, Dropout"
   ]
  },
  {
   "cell_type": "markdown",
   "metadata": {},
   "source": [
    "For when doing GPU work"
   ]
  },
  {
   "cell_type": "code",
   "execution_count": 2,
   "metadata": {},
   "outputs": [
    {
     "name": "stdout",
     "output_type": "stream",
     "text": [
      "[PhysicalDevice(name='/physical_device:GPU:0', device_type='GPU')]\n"
     ]
    },
    {
     "name": "stderr",
     "output_type": "stream",
     "text": [
      "2024-10-27 21:55:42.791618: I tensorflow/compiler/xla/stream_executor/cuda/cuda_gpu_executor.cc:981] could not open file to read NUMA node: /sys/bus/pci/devices/0000:08:00.0/numa_node\n",
      "Your kernel may have been built without NUMA support.\n",
      "2024-10-27 21:55:43.225125: I tensorflow/compiler/xla/stream_executor/cuda/cuda_gpu_executor.cc:981] could not open file to read NUMA node: /sys/bus/pci/devices/0000:08:00.0/numa_node\n",
      "Your kernel may have been built without NUMA support.\n",
      "2024-10-27 21:55:43.225182: I tensorflow/compiler/xla/stream_executor/cuda/cuda_gpu_executor.cc:981] could not open file to read NUMA node: /sys/bus/pci/devices/0000:08:00.0/numa_node\n",
      "Your kernel may have been built without NUMA support.\n"
     ]
    }
   ],
   "source": [
    "print(tf.config.list_physical_devices('GPU'))"
   ]
  },
  {
   "cell_type": "markdown",
   "metadata": {},
   "source": [
    "# **IPPR CNN Model**"
   ]
  },
  {
   "cell_type": "markdown",
   "metadata": {},
   "source": [
    "### **Setting up Data**"
   ]
  },
  {
   "cell_type": "markdown",
   "metadata": {},
   "source": [
    "Import image data from dataset containing 20000 positive images and 20000 negative images with each image being 227 x 227 pixels large. Kaggle link: https://www.kaggle.com/datasets/arnavr10880/concrete-crack-images-for-classification/data"
   ]
  },
  {
   "cell_type": "code",
   "execution_count": 3,
   "metadata": {},
   "outputs": [
    {
     "name": "stdout",
     "output_type": "stream",
     "text": [
      "Found 20000 files belonging to 2 classes.\n"
     ]
    },
    {
     "name": "stderr",
     "output_type": "stream",
     "text": [
      "2024-10-27 21:55:46.397774: I tensorflow/compiler/xla/stream_executor/cuda/cuda_gpu_executor.cc:981] could not open file to read NUMA node: /sys/bus/pci/devices/0000:08:00.0/numa_node\n",
      "Your kernel may have been built without NUMA support.\n",
      "2024-10-27 21:55:46.397885: I tensorflow/compiler/xla/stream_executor/cuda/cuda_gpu_executor.cc:981] could not open file to read NUMA node: /sys/bus/pci/devices/0000:08:00.0/numa_node\n",
      "Your kernel may have been built without NUMA support.\n",
      "2024-10-27 21:55:46.397937: I tensorflow/compiler/xla/stream_executor/cuda/cuda_gpu_executor.cc:981] could not open file to read NUMA node: /sys/bus/pci/devices/0000:08:00.0/numa_node\n",
      "Your kernel may have been built without NUMA support.\n",
      "2024-10-27 21:55:47.860720: I tensorflow/compiler/xla/stream_executor/cuda/cuda_gpu_executor.cc:981] could not open file to read NUMA node: /sys/bus/pci/devices/0000:08:00.0/numa_node\n",
      "Your kernel may have been built without NUMA support.\n",
      "2024-10-27 21:55:47.860798: I tensorflow/compiler/xla/stream_executor/cuda/cuda_gpu_executor.cc:981] could not open file to read NUMA node: /sys/bus/pci/devices/0000:08:00.0/numa_node\n",
      "Your kernel may have been built without NUMA support.\n",
      "2024-10-27 21:55:47.860807: I tensorflow/core/common_runtime/gpu/gpu_device.cc:1726] Could not identify NUMA node of platform GPU id 0, defaulting to 0.  Your kernel may not have been built with NUMA support.\n",
      "2024-10-27 21:55:47.860852: I tensorflow/compiler/xla/stream_executor/cuda/cuda_gpu_executor.cc:981] could not open file to read NUMA node: /sys/bus/pci/devices/0000:08:00.0/numa_node\n",
      "Your kernel may have been built without NUMA support.\n",
      "2024-10-27 21:55:47.860880: I tensorflow/core/common_runtime/gpu/gpu_device.cc:1639] Created device /job:localhost/replica:0/task:0/device:GPU:0 with 5405 MB memory:  -> device: 0, name: NVIDIA GeForce RTX 4060, pci bus id: 0000:08:00.0, compute capability: 8.9\n"
     ]
    }
   ],
   "source": [
    "data = tf.keras.utils.image_dataset_from_directory('Data', image_size=(227, 227), batch_size=128)"
   ]
  },
  {
   "cell_type": "markdown",
   "metadata": {},
   "source": [
    "Shuffle the dataset before splitting the data into training, testing and validation sets."
   ]
  },
  {
   "cell_type": "code",
   "execution_count": 4,
   "metadata": {},
   "outputs": [],
   "source": [
    "shuffled_data = data.shuffle(buffer_size=100, reshuffle_each_iteration=False)"
   ]
  },
  {
   "cell_type": "markdown",
   "metadata": {},
   "source": [
    "Splitting the dataset into training, testining and validation sets."
   ]
  },
  {
   "cell_type": "code",
   "execution_count": 5,
   "metadata": {},
   "outputs": [],
   "source": [
    "training_split_size = int(len(data)*.7)\n",
    "testing_split_size = int(len(data)*.15)\n",
    "validation_split_size = int(len(data)*.15)"
   ]
  },
  {
   "cell_type": "code",
   "execution_count": 6,
   "metadata": {},
   "outputs": [],
   "source": [
    "training_set = shuffled_data.take(training_split_size)\n",
    "testing_set = shuffled_data.skip(training_split_size).take(testing_split_size)\n",
    "validation_set = shuffled_data.skip(training_split_size+testing_split_size).take(validation_split_size)"
   ]
  },
  {
   "cell_type": "markdown",
   "metadata": {},
   "source": [
    "### **Model Building**"
   ]
  },
  {
   "cell_type": "code",
   "execution_count": 7,
   "metadata": {},
   "outputs": [],
   "source": [
    "model = Sequential()\n",
    "\n",
    "model.add(tf.keras.Input(shape=(227,227,3)))\n",
    "model.add(Conv2D(32, 9, strides = 1, activation = 'relu')) \n",
    "model.add(Conv2D(16, 7, strides = 1, activation = 'relu'))\n",
    "model.add(MaxPooling2D())\n",
    "\n",
    "model.add(Conv2D(16, 3, strides = 1, activation = 'relu')) \n",
    "model.add(Conv2D(16, 3, strides = 1, activation = 'relu')) \n",
    "model.add(MaxPooling2D())\n",
    "\n",
    "model.add(tf.keras.layers.GlobalMaxPooling2D())\n",
    "\n",
    "model.add(Dense(16, activation = 'relu'))\n",
    "model.add(Dense(1, activation = 'sigmoid'))\n",
    "\n",
    "\n"
   ]
  },
  {
   "cell_type": "markdown",
   "metadata": {},
   "source": [
    "### **Compiling Model**"
   ]
  },
  {
   "cell_type": "code",
   "execution_count": 8,
   "metadata": {},
   "outputs": [],
   "source": [
    "model.compile('adam', loss=tf.losses.BinaryCrossentropy(), metrics=['accuracy'])"
   ]
  },
  {
   "cell_type": "code",
   "execution_count": 9,
   "metadata": {},
   "outputs": [
    {
     "name": "stdout",
     "output_type": "stream",
     "text": [
      "Model: \"sequential\"\n",
      "_________________________________________________________________\n",
      " Layer (type)                Output Shape              Param #   \n",
      "=================================================================\n",
      " conv2d (Conv2D)             (None, 219, 219, 32)      7808      \n",
      "                                                                 \n",
      " conv2d_1 (Conv2D)           (None, 213, 213, 16)      25104     \n",
      "                                                                 \n",
      " max_pooling2d (MaxPooling2  (None, 106, 106, 16)      0         \n",
      " D)                                                              \n",
      "                                                                 \n",
      " conv2d_2 (Conv2D)           (None, 104, 104, 16)      2320      \n",
      "                                                                 \n",
      " conv2d_3 (Conv2D)           (None, 102, 102, 16)      2320      \n",
      "                                                                 \n",
      " max_pooling2d_1 (MaxPoolin  (None, 51, 51, 16)        0         \n",
      " g2D)                                                            \n",
      "                                                                 \n",
      " global_max_pooling2d (Glob  (None, 16)                0         \n",
      " alMaxPooling2D)                                                 \n",
      "                                                                 \n",
      " dense (Dense)               (None, 16)                272       \n",
      "                                                                 \n",
      " dense_1 (Dense)             (None, 1)                 17        \n",
      "                                                                 \n",
      "=================================================================\n",
      "Total params: 37841 (147.82 KB)\n",
      "Trainable params: 37841 (147.82 KB)\n",
      "Non-trainable params: 0 (0.00 Byte)\n",
      "_________________________________________________________________\n"
     ]
    }
   ],
   "source": [
    "model.summary()"
   ]
  },
  {
   "cell_type": "code",
   "execution_count": 10,
   "metadata": {},
   "outputs": [
    {
     "name": "stdout",
     "output_type": "stream",
     "text": [
      "Epoch 1/25\n"
     ]
    },
    {
     "name": "stderr",
     "output_type": "stream",
     "text": [
      "2024-10-27 21:56:15.385998: I tensorflow/compiler/xla/stream_executor/cuda/cuda_dnn.cc:432] Loaded cuDNN version 8907\n",
      "2024-10-27 21:56:21.591237: I tensorflow/compiler/xla/stream_executor/cuda/cuda_blas.cc:606] TensorFloat-32 will be used for the matrix multiplication. This will only be logged once.\n",
      "2024-10-27 21:56:21.644687: I tensorflow/compiler/xla/service/service.cc:168] XLA service 0x7f8b7d4429d0 initialized for platform CUDA (this does not guarantee that XLA will be used). Devices:\n",
      "2024-10-27 21:56:21.644742: I tensorflow/compiler/xla/service/service.cc:176]   StreamExecutor device (0): NVIDIA GeForce RTX 4060, Compute Capability 8.9\n",
      "2024-10-27 21:56:21.679085: I tensorflow/compiler/mlir/tensorflow/utils/dump_mlir_util.cc:255] disabling MLIR crash reproducer, set env var `MLIR_CRASH_REPRODUCER_DIRECTORY` to enable.\n",
      "2024-10-27 21:56:21.922964: I ./tensorflow/compiler/jit/device_compiler.h:186] Compiled cluster using XLA!  This line is logged at most once for the lifetime of the process.\n",
      "2024-10-27 21:56:30.768067: W tensorflow/tsl/framework/bfc_allocator.cc:296] Allocator (GPU_0_bfc) ran out of memory trying to allocate 3.38GiB with freed_by_count=0. The caller indicates that this is not a failure, but this may mean that there could be performance gains if more memory were available.\n"
     ]
    },
    {
     "name": "stdout",
     "output_type": "stream",
     "text": [
      "  1/109 [..............................] - ETA: 40:19 - loss: 7.1978 - accuracy: 0.5000"
     ]
    },
    {
     "name": "stderr",
     "output_type": "stream",
     "text": [
      "2024-10-27 21:56:33.033292: W tensorflow/tsl/framework/bfc_allocator.cc:296] Allocator (GPU_0_bfc) ran out of memory trying to allocate 2.95GiB with freed_by_count=0. The caller indicates that this is not a failure, but this may mean that there could be performance gains if more memory were available.\n"
     ]
    },
    {
     "name": "stdout",
     "output_type": "stream",
     "text": [
      "109/109 [==============================] - 58s 330ms/step - loss: 0.6299 - accuracy: 0.8539 - val_loss: 0.2362 - val_accuracy: 0.8978\n",
      "Epoch 2/25\n",
      "109/109 [==============================] - 35s 298ms/step - loss: 0.2539 - accuracy: 0.9019 - val_loss: 0.2598 - val_accuracy: 0.8848\n",
      "Epoch 3/25\n",
      "109/109 [==============================] - 36s 303ms/step - loss: 0.2153 - accuracy: 0.9051 - val_loss: 0.1945 - val_accuracy: 0.9112\n",
      "Epoch 4/25\n",
      "109/109 [==============================] - 35s 295ms/step - loss: 0.1964 - accuracy: 0.9106 - val_loss: 0.1993 - val_accuracy: 0.9108\n",
      "Epoch 5/25\n",
      "109/109 [==============================] - 34s 293ms/step - loss: 0.1831 - accuracy: 0.9146 - val_loss: 0.1836 - val_accuracy: 0.9020\n",
      "Epoch 6/25\n",
      "109/109 [==============================] - 35s 300ms/step - loss: 0.1792 - accuracy: 0.9159 - val_loss: 0.1556 - val_accuracy: 0.9256\n",
      "Epoch 7/25\n",
      "109/109 [==============================] - 36s 302ms/step - loss: 0.1749 - accuracy: 0.9199 - val_loss: 0.1632 - val_accuracy: 0.9171\n",
      "Epoch 8/25\n",
      "109/109 [==============================] - 35s 297ms/step - loss: 0.1658 - accuracy: 0.9216 - val_loss: 0.2155 - val_accuracy: 0.9178\n",
      "Epoch 9/25\n",
      "109/109 [==============================] - 35s 298ms/step - loss: 0.1664 - accuracy: 0.9235 - val_loss: 0.1619 - val_accuracy: 0.9231\n",
      "Epoch 10/25\n",
      "109/109 [==============================] - 35s 294ms/step - loss: 0.1664 - accuracy: 0.9242 - val_loss: 0.1850 - val_accuracy: 0.9221\n",
      "Epoch 11/25\n",
      "109/109 [==============================] - 34s 294ms/step - loss: 0.1615 - accuracy: 0.9279 - val_loss: 0.1598 - val_accuracy: 0.9291\n",
      "Epoch 12/25\n",
      "109/109 [==============================] - 34s 294ms/step - loss: 0.1606 - accuracy: 0.9285 - val_loss: 0.1609 - val_accuracy: 0.9238\n",
      "Epoch 13/25\n",
      "109/109 [==============================] - 34s 294ms/step - loss: 0.1608 - accuracy: 0.9264 - val_loss: 0.1675 - val_accuracy: 0.9199\n",
      "Epoch 14/25\n",
      "109/109 [==============================] - 35s 300ms/step - loss: 0.1515 - accuracy: 0.9292 - val_loss: 0.1521 - val_accuracy: 0.9277\n",
      "Epoch 15/25\n",
      "109/109 [==============================] - 35s 293ms/step - loss: 0.1544 - accuracy: 0.9284 - val_loss: 0.1405 - val_accuracy: 0.9305\n",
      "Epoch 16/25\n",
      "109/109 [==============================] - 35s 296ms/step - loss: 0.1499 - accuracy: 0.9315 - val_loss: 0.1400 - val_accuracy: 0.9389\n",
      "Epoch 17/25\n",
      "109/109 [==============================] - 35s 295ms/step - loss: 0.1653 - accuracy: 0.9252 - val_loss: 0.1546 - val_accuracy: 0.9277\n",
      "Epoch 18/25\n",
      "109/109 [==============================] - 35s 296ms/step - loss: 0.1591 - accuracy: 0.9294 - val_loss: 0.1462 - val_accuracy: 0.9326\n",
      "Epoch 19/25\n",
      "109/109 [==============================] - 35s 296ms/step - loss: 0.1507 - accuracy: 0.9282 - val_loss: 0.1694 - val_accuracy: 0.9143\n",
      "Epoch 20/25\n",
      "109/109 [==============================] - 35s 294ms/step - loss: 0.1487 - accuracy: 0.9313 - val_loss: 0.1475 - val_accuracy: 0.9277\n",
      "Epoch 21/25\n",
      "109/109 [==============================] - 35s 297ms/step - loss: 0.1484 - accuracy: 0.9331 - val_loss: 0.1307 - val_accuracy: 0.9445\n",
      "Epoch 22/25\n",
      "109/109 [==============================] - 36s 304ms/step - loss: 0.1487 - accuracy: 0.9320 - val_loss: 0.1326 - val_accuracy: 0.9421\n",
      "Epoch 23/25\n",
      "109/109 [==============================] - 35s 299ms/step - loss: 0.1493 - accuracy: 0.9308 - val_loss: 0.1343 - val_accuracy: 0.9340\n",
      "Epoch 24/25\n",
      "109/109 [==============================] - 35s 291ms/step - loss: 0.1443 - accuracy: 0.9336 - val_loss: 0.1355 - val_accuracy: 0.9393\n",
      "Epoch 25/25\n",
      "109/109 [==============================] - 35s 296ms/step - loss: 0.1441 - accuracy: 0.9338 - val_loss: 0.1601 - val_accuracy: 0.9228\n"
     ]
    }
   ],
   "source": [
    "hist = model.fit(training_set, epochs = 25, validation_data = validation_set)"
   ]
  },
  {
   "cell_type": "markdown",
   "metadata": {},
   "source": [
    "### **Plotting and Presenting Results**"
   ]
  },
  {
   "cell_type": "markdown",
   "metadata": {},
   "source": [
    "Plotting training and validation loss"
   ]
  },
  {
   "cell_type": "code",
   "execution_count": 11,
   "metadata": {},
   "outputs": [
    {
     "data": {
      "image/png": "[encoded data removed]",
      "text/plain": [
       "<Figure size 640x480 with 1 Axes>"
      ]
     },
     "metadata": {},
     "output_type": "display_data"
    }
   ],
   "source": [
    "fig = plt.figure()\n",
    "plt.plot(hist.history['loss'], color = 'teal', label = 'loss')\n",
    "plt.plot(hist.history['val_loss'], color = 'orange', label = 'val_loss')\n",
    "fig.suptitle(\"Loss\", fontsize = 20)\n",
    "plt.legend(loc=\"upper left\")\n",
    "plt.show()"
   ]
  },
  {
   "cell_type": "markdown",
   "metadata": {},
   "source": [
    "Plotting training and validation accuracy"
   ]
  },
  {
   "cell_type": "code",
   "execution_count": 12,
   "metadata": {},
   "outputs": [
    {
     "data": {
      "image/png": "[encoded data removed]",
      "text/plain": [
       "<Figure size 640x480 with 1 Axes>"
      ]
     },
     "metadata": {},
     "output_type": "display_data"
    }
   ],
   "source": [
    "fig2 = plt.figure()\n",
    "plt.plot(hist.history['accuracy'], color = 'teal', label = 'accuracy')\n",
    "plt.plot(hist.history['val_accuracy'], color = 'orange', label = 'val_accuracy')\n",
    "fig2.suptitle(\"Accuracy\", fontsize = 20)\n",
    "plt.legend(loc=\"upper left\")\n",
    "plt.show()"
   ]
  }
 ],
 "metadata": {
  "kernelspec": {
   "display_name": "base",
   "language": "python",
   "name": "python3"
  },
  "language_info": {
   "codemirror_mode": {
    "name": "ipython",
    "version": 3
   },
   "file_extension": ".py",
   "mimetype": "text/x-python",
   "name": "python",
   "nbconvert_exporter": "python",
   "pygments_lexer": "ipython3",
   "version": "undefined.undefined.undefined"
  }
 },
 "nbformat": 4,
 "nbformat_minor": 2
}
